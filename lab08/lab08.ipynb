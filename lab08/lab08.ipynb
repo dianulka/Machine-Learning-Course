{
 "cells": [
  {
   "cell_type": "code",
   "execution_count": 1,
   "id": "782df611-6f19-49b0-9ed0-8f4c9eef07a6",
   "metadata": {},
   "outputs": [],
   "source": [
    "#exlained-variance\n",
    "#l wymiarow bedzie mniejsza niz sklaowania\n",
    "#daglas addams"
   ]
  },
  {
   "cell_type": "code",
   "execution_count": 2,
   "id": "120b7ffc-715e-47c9-879f-61a97c383977",
   "metadata": {},
   "outputs": [
    {
     "data": {
      "text/plain": [
       "array([[1.799e+01, 1.038e+01, 1.228e+02, ..., 2.654e-01, 4.601e-01,\n",
       "        1.189e-01],\n",
       "       [2.057e+01, 1.777e+01, 1.329e+02, ..., 1.860e-01, 2.750e-01,\n",
       "        8.902e-02],\n",
       "       [1.969e+01, 2.125e+01, 1.300e+02, ..., 2.430e-01, 3.613e-01,\n",
       "        8.758e-02],\n",
       "       ...,\n",
       "       [1.660e+01, 2.808e+01, 1.083e+02, ..., 1.418e-01, 2.218e-01,\n",
       "        7.820e-02],\n",
       "       [2.060e+01, 2.933e+01, 1.401e+02, ..., 2.650e-01, 4.087e-01,\n",
       "        1.240e-01],\n",
       "       [7.760e+00, 2.454e+01, 4.792e+01, ..., 0.000e+00, 2.871e-01,\n",
       "        7.039e-02]])"
      ]
     },
     "execution_count": 2,
     "metadata": {},
     "output_type": "execute_result"
    }
   ],
   "source": [
    "from sklearn import datasets\n",
    "data_breast_cancer = datasets.load_breast_cancer()\n",
    "X = data_breast_cancer.data\n",
    "X"
   ]
  },
  {
   "cell_type": "code",
   "execution_count": 3,
   "id": "d221eb7a-e360-4034-b0f2-b250949649e6",
   "metadata": {},
   "outputs": [
    {
     "name": "stdout",
     "output_type": "stream",
     "text": [
      "[0.98204467]\n",
      "(569, 30) --> (569, 1)\n",
      "23\n",
      "[ 5.08623202e-03  2.19657026e-03  3.50763298e-02  5.16826469e-01\n",
      "  4.23694535e-06  4.05260047e-05  8.19399539e-05  4.77807775e-05\n",
      "  7.07804332e-06 -2.62155251e-06  3.13742507e-04 -6.50984008e-05\n",
      "  2.23634150e-03  5.57271669e-02 -8.05646029e-07  5.51918197e-06\n",
      "  8.87094462e-06  3.27915009e-06 -1.24101836e-06 -8.54530832e-08\n",
      "  7.15473257e-03  3.06736622e-03  4.94576447e-02  8.52063392e-01\n",
      "  6.42005481e-06  1.01275937e-04  1.68928625e-04  7.36658178e-05\n",
      "  1.78986262e-05  1.61356159e-06]\n"
     ]
    }
   ],
   "source": [
    "from sklearn.decomposition import PCA\n",
    "import numpy as np\n",
    "pca = PCA(n_components=0.9)\n",
    "XreducedD = pca.fit_transform(X)\n",
    "print(pca.explained_variance_ratio_)\n",
    "print(X.shape,'-->', XreducedD.shape)\n",
    "c0_important_feature = np.argmax(abs(pca.components_[0]))\n",
    "print(c0_important_feature)\n",
    "print(pca.components_[0])\n"
   ]
  },
  {
   "cell_type": "code",
   "execution_count": 4,
   "id": "20445b52-40fe-407e-bfa6-0bdcacf8aa30",
   "metadata": {},
   "outputs": [],
   "source": [
    "from sklearn.preprocessing import StandardScaler\n",
    "scaler = StandardScaler()\n",
    "X = scaler.fit_transform(X)"
   ]
  },
  {
   "cell_type": "code",
   "execution_count": 5,
   "id": "9f4a13b8-b167-4272-b6e5-c9322329fd7c",
   "metadata": {},
   "outputs": [
    {
     "name": "stdout",
     "output_type": "stream",
     "text": [
      "[0.44272026 0.18971182 0.09393163 0.06602135 0.05495768 0.04024522\n",
      " 0.02250734]\n",
      "(569, 30) --> (569, 7)\n",
      "7\n",
      "[0.21890244 0.10372458 0.22753729 0.22099499 0.14258969 0.23928535\n",
      " 0.25840048 0.26085376 0.13816696 0.06436335 0.20597878 0.01742803\n",
      " 0.21132592 0.20286964 0.01453145 0.17039345 0.15358979 0.1834174\n",
      " 0.04249842 0.10256832 0.22799663 0.10446933 0.23663968 0.22487053\n",
      " 0.12795256 0.21009588 0.22876753 0.25088597 0.12290456 0.13178394]\n"
     ]
    }
   ],
   "source": [
    "from sklearn.decomposition import PCA\n",
    "import numpy as np\n",
    "pca = PCA(n_components=0.9)\n",
    "XreducedD = pca.fit_transform(X)\n",
    "print(pca.explained_variance_ratio_)\n",
    "print(X.shape,'-->', XreducedD.shape)\n",
    "c0_important_feature = np.argmax(abs(pca.components_[0]))\n",
    "print(c0_important_feature)\n",
    "print(pca.components_[0])\n"
   ]
  },
  {
   "cell_type": "code",
   "execution_count": 6,
   "id": "eadbf0c7-b013-4506-b504-76221156ba72",
   "metadata": {},
   "outputs": [
    {
     "name": "stdout",
     "output_type": "stream",
     "text": [
      "[0.21890244 0.10372458 0.22753729 0.22099499 0.14258969 0.23928535\n",
      " 0.25840048 0.26085376 0.13816696 0.06436335 0.20597878 0.01742803\n",
      " 0.21132592 0.20286964 0.01453145 0.17039345 0.15358979 0.1834174\n",
      " 0.04249842 0.10256832 0.22799663 0.10446933 0.23663968 0.22487053\n",
      " 0.12795256 0.21009588 0.22876753 0.25088597 0.12290456 0.13178394]\n",
      "7\n",
      "[-0.23385713 -0.05970609 -0.21518136 -0.23107671  0.18611302  0.15189161\n",
      "  0.06016536 -0.0347675   0.19034877  0.36657547 -0.10555215  0.08997968\n",
      " -0.08945723 -0.15229263  0.20443045  0.2327159   0.19720728  0.13032156\n",
      "  0.183848    0.28009203 -0.21986638 -0.0454673  -0.19987843 -0.21935186\n",
      "  0.17230435  0.14359317  0.09796411 -0.00825724  0.14188335  0.27533947]\n",
      "9\n",
      "[-0.00853124  0.0645499  -0.00931422  0.02869953 -0.1042919  -0.07409157\n",
      "  0.00273384 -0.02556354 -0.04023994 -0.02257409  0.26848139  0.37463367\n",
      "  0.26664537  0.21600653  0.30883898  0.15477972  0.17646374  0.22465757\n",
      "  0.28858429  0.21150376 -0.04750699 -0.04229782 -0.04854651 -0.01190232\n",
      " -0.25979761 -0.23607563 -0.17305734 -0.17034408 -0.27131264 -0.23279131]\n",
      "11\n",
      "[ 0.04140896 -0.60305     0.0419831   0.0534338   0.15938277  0.03179458\n",
      "  0.01912275  0.06533594  0.06712498  0.04858676  0.09794124 -0.35985553\n",
      "  0.08899241  0.10820504  0.04466418 -0.02746936  0.00131688  0.07406733\n",
      "  0.04407335  0.01530475  0.01541724 -0.63280788  0.01380279  0.02589475\n",
      "  0.01765222 -0.09132842 -0.07395118  0.006007   -0.03625069 -0.07705347]\n",
      "21\n",
      "[ 0.03778635 -0.04946885  0.03737466  0.01033125 -0.36508853  0.01170397\n",
      "  0.08637541 -0.04386103 -0.30594143 -0.04442436 -0.1544565  -0.19165051\n",
      " -0.12099022 -0.12757443 -0.23206568  0.27996816  0.35398209  0.19554809\n",
      " -0.25286876  0.26329744 -0.00440659 -0.0928834   0.00745415 -0.0273909\n",
      " -0.32443545  0.12180411  0.18851873  0.04333207 -0.24455866  0.09442335]\n",
      "4\n",
      "[ 1.87407904e-02 -3.21788366e-02  1.73084449e-02 -1.88774796e-03\n",
      " -2.86374497e-01 -1.41309489e-02 -9.34418089e-03 -5.20499505e-02\n",
      "  3.56458461e-01 -1.19430668e-01 -2.56032561e-02 -2.87473145e-02\n",
      "  1.81071500e-03 -4.28639079e-02 -3.42917393e-01  6.91975186e-02\n",
      "  5.63432386e-02 -3.12244482e-02  4.90245643e-01 -5.31952674e-02\n",
      " -2.90684919e-04 -5.00080613e-02  8.50098715e-03 -2.51643821e-02\n",
      " -3.69255370e-01  4.77057929e-02  2.83792555e-02 -3.08734498e-02\n",
      "  4.98926784e-01 -8.02235245e-02]\n",
      "28\n",
      "[-0.12408834  0.01139954 -0.11447706 -0.05165343 -0.14066899  0.0309185\n",
      " -0.10752044 -0.15048221 -0.09389113  0.29576002  0.31249004 -0.09075536\n",
      "  0.31464039  0.346679   -0.24402406  0.02346353 -0.20882379 -0.36964594\n",
      " -0.08038225  0.19139497 -0.00970994  0.00987074 -0.00044573  0.06783166\n",
      " -0.10883089  0.14047294 -0.06048806 -0.16796662 -0.01849063  0.37465763]\n",
      "29\n",
      "7\n",
      "[0.44272025607526305, 0.189711820440331, 0.09393163257431378, 0.06602134915470166, 0.054957684923462695, 0.04024522039883345, 0.022507337129825056]\n"
     ]
    }
   ],
   "source": [
    "bc = []\n",
    "idx_bc = []\n",
    "for x in pca.components_:\n",
    "    bc.append(x)\n",
    "    print(x)\n",
    "    print(np.argmax(abs(x)))\n",
    "    idx_bc.append(np.argmax(abs(x)))\n",
    "\n",
    "print(len(bc))\n",
    "\n",
    "import pickle\n",
    "with open('pca_bc.pkl', 'wb') as f:\n",
    "    pickle.dump(list(pca.explained_variance_ratio_),f)\n",
    "\n",
    "print(list(pca.explained_variance_ratio_))\n",
    "\n",
    "with open('idx_bc.pkl', 'wb') as f:\n",
    "    pickle.dump(idx_bc, f)"
   ]
  },
  {
   "cell_type": "code",
   "execution_count": 7,
   "id": "d1a5e527-4050-423c-90c0-cf76a5294daf",
   "metadata": {},
   "outputs": [
    {
     "data": {
      "text/plain": [
       "(150, 4)"
      ]
     },
     "execution_count": 7,
     "metadata": {},
     "output_type": "execute_result"
    }
   ],
   "source": [
    "from sklearn.datasets import load_iris\n",
    "data_iris = load_iris()\n",
    "X = data_iris.data\n",
    "X.shape"
   ]
  },
  {
   "cell_type": "code",
   "execution_count": 8,
   "id": "fa812cf5-2273-428a-b8ee-f43078d473ff",
   "metadata": {},
   "outputs": [
    {
     "name": "stdout",
     "output_type": "stream",
     "text": [
      "[0.92461872]\n",
      "(150, 4) --> (150, 1)\n",
      "2\n",
      "[ 0.36138659 -0.08452251  0.85667061  0.3582892 ]\n"
     ]
    }
   ],
   "source": [
    "from sklearn.decomposition import PCA\n",
    "import numpy as np\n",
    "pca = PCA(n_components=0.9)\n",
    "XreducedD = pca.fit_transform(X)\n",
    "print(pca.explained_variance_ratio_)\n",
    "print(X.shape,'-->', XreducedD.shape)\n",
    "c0_important_feature = np.argmax(abs(pca.components_[0]))\n",
    "print(c0_important_feature)\n",
    "print(pca.components_[0])"
   ]
  },
  {
   "cell_type": "code",
   "execution_count": 9,
   "id": "0db96fb8-9eab-4195-8612-314e557de00a",
   "metadata": {},
   "outputs": [
    {
     "name": "stdout",
     "output_type": "stream",
     "text": [
      "[0.72962445 0.22850762]\n",
      "(150, 4) --> (150, 2)\n",
      "2\n",
      "[ 0.52106591 -0.26934744  0.5804131   0.56485654]\n"
     ]
    }
   ],
   "source": [
    "scaler = StandardScaler()\n",
    "X = scaler.fit_transform(X)\n",
    "\n",
    "pca = PCA(n_components=0.9)\n",
    "XreducedD = pca.fit_transform(X)\n",
    "print(pca.explained_variance_ratio_)\n",
    "print(X.shape,'-->', XreducedD.shape)\n",
    "c0_important_feature = np.argmax(abs(pca.components_[0]))\n",
    "print(c0_important_feature)\n",
    "print(pca.components_[0])"
   ]
  },
  {
   "cell_type": "code",
   "execution_count": 10,
   "id": "40434dcc-28a0-48d2-8f4d-e767724bef19",
   "metadata": {},
   "outputs": [
    {
     "name": "stdout",
     "output_type": "stream",
     "text": [
      "2\n",
      "1\n",
      "[0.7296244541329986, 0.22850761786701776]\n"
     ]
    }
   ],
   "source": [
    "ir = []\n",
    "idx_ir = []\n",
    "\n",
    "for x in pca.components_:\n",
    "    ir.append(x)\n",
    "    print(np.argmax(abs(x)))\n",
    "    idx_ir.append(np.argmax(abs(x)))\n",
    "\n",
    "#print(len(ir))\n",
    "\n",
    "with open('pca_ir.pkl', 'wb') as f:\n",
    "    pickle.dump(list(pca.explained_variance_ratio_),f)\n",
    "\n",
    "print(list(pca.explained_variance_ratio_))\n",
    "\n",
    "with open('idx_ir.pkl', 'wb') as f:\n",
    "    pickle.dump(idx_ir, f)"
   ]
  },
  {
   "cell_type": "code",
   "execution_count": 11,
   "id": "08e8e842-b6a2-4ba5-a987-43bff32f3445",
   "metadata": {},
   "outputs": [
    {
     "data": {
      "text/plain": [
       "[2.9380850501999953, 0.9201649041624879]"
      ]
     },
     "execution_count": 11,
     "metadata": {},
     "output_type": "execute_result"
    }
   ],
   "source": [
    "list(pca.explained_variance_)"
   ]
  },
  {
   "cell_type": "code",
   "execution_count": null,
   "id": "63a343a5-0075-46ed-ab9b-1c6e64b4f316",
   "metadata": {},
   "outputs": [],
   "source": []
  }
 ],
 "metadata": {
  "kernelspec": {
   "display_name": "Python 3 (ipykernel)",
   "language": "python",
   "name": "python3"
  },
  "language_info": {
   "codemirror_mode": {
    "name": "ipython",
    "version": 3
   },
   "file_extension": ".py",
   "mimetype": "text/x-python",
   "name": "python",
   "nbconvert_exporter": "python",
   "pygments_lexer": "ipython3",
   "version": "3.9.18"
  }
 },
 "nbformat": 4,
 "nbformat_minor": 5
}
